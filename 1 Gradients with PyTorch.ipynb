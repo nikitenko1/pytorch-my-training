{
 "cells": [
  {
   "cell_type": "markdown",
   "id": "9269cbe6",
   "metadata": {},
   "source": [
    "<p style=\"font-family:ComicSansMS; font-size: 30px;\"> Gradients with PyTorch</p>"
   ]
  },
  {
   "cell_type": "markdown",
   "id": "fc6a5ac2",
   "metadata": {},
   "source": [
    "<p style=\"font-family:ComicSansMS; font-size: 24px;\"> Tensors with Gradients -- Creating Tensors with Gradients</p>"
   ]
  },
  {
   "cell_type": "markdown",
   "id": "33d7d1ec",
   "metadata": {},
   "source": [
    "> Method 1: Create tensor with gradients"
   ]
  },
  {
   "cell_type": "code",
   "execution_count": 1,
   "id": "28e73e1f",
   "metadata": {},
   "outputs": [
    {
     "data": {
      "text/plain": [
       "tensor([[1., 1.],\n",
       "        [1., 1.]], requires_grad=True)"
      ]
     },
     "execution_count": 1,
     "metadata": {},
     "output_type": "execute_result"
    }
   ],
   "source": [
    "import torch\n",
    "\n",
    "a = torch.ones((2, 2), requires_grad=True)\n",
    "a"
   ]
  },
  {
   "cell_type": "markdown",
   "id": "bf45bc57",
   "metadata": {},
   "source": [
    "> Check if tensor requires gradients"
   ]
  },
  {
   "cell_type": "code",
   "execution_count": 2,
   "id": "6b24db51",
   "metadata": {},
   "outputs": [
    {
     "data": {
      "text/plain": [
       "True"
      ]
     },
     "execution_count": 2,
     "metadata": {},
     "output_type": "execute_result"
    }
   ],
   "source": [
    "a.requires_grad"
   ]
  },
  {
   "cell_type": "markdown",
   "id": "2d41fc63",
   "metadata": {},
   "source": [
    "> Method 2: Create tensor with gradients"
   ]
  },
  {
   "cell_type": "code",
   "execution_count": 3,
   "id": "0f234722",
   "metadata": {},
   "outputs": [
    {
     "data": {
      "text/plain": [
       "True"
      ]
     },
     "execution_count": 3,
     "metadata": {},
     "output_type": "execute_result"
    }
   ],
   "source": [
    "# Normal way of creating gradients\n",
    "a = torch.ones((2, 2))\n",
    "\n",
    "# Requires gradient\n",
    "a.requires_grad_()\n",
    "\n",
    "# Check if requires gradient\n",
    "a.requires_grad"
   ]
  },
  {
   "cell_type": "markdown",
   "id": "63c5bc66",
   "metadata": {},
   "source": [
    "> A tensor without gradients just for comparison"
   ]
  },
  {
   "cell_type": "code",
   "execution_count": 4,
   "id": "b7e35c40",
   "metadata": {},
   "outputs": [
    {
     "data": {
      "text/plain": [
       "False"
      ]
     },
     "execution_count": 4,
     "metadata": {},
     "output_type": "execute_result"
    }
   ],
   "source": [
    "# Not a variable\n",
    "no_gradient = torch.ones(2, 2)\n",
    "\n",
    "no_gradient.requires_grad"
   ]
  },
  {
   "cell_type": "markdown",
   "id": "afbef08d",
   "metadata": {},
   "source": [
    "> Tensor with gradients addition operation"
   ]
  },
  {
   "cell_type": "code",
   "execution_count": 5,
   "id": "7ade2ae4",
   "metadata": {},
   "outputs": [
    {
     "name": "stdout",
     "output_type": "stream",
     "text": [
      "tensor([[2., 2.],\n",
      "        [2., 2.]], grad_fn=<AddBackward0>)\n",
      "tensor([[2., 2.],\n",
      "        [2., 2.]], grad_fn=<AddBackward0>)\n"
     ]
    }
   ],
   "source": [
    "# Behaves similarly to tensors\n",
    "b = torch.ones((2, 2), requires_grad=True)\n",
    "print(a + b)\n",
    "print(torch.add(a, b))"
   ]
  },
  {
   "cell_type": "markdown",
   "id": "b2b1b8f4",
   "metadata": {},
   "source": [
    "> Tensor with gradients multiplication operation"
   ]
  },
  {
   "cell_type": "code",
   "execution_count": 6,
   "id": "8b1d73ca",
   "metadata": {},
   "outputs": [
    {
     "name": "stdout",
     "output_type": "stream",
     "text": [
      "tensor([[1., 1.],\n",
      "        [1., 1.]], grad_fn=<MulBackward0>)\n",
      "tensor([[1., 1.],\n",
      "        [1., 1.]], grad_fn=<MulBackward0>)\n"
     ]
    }
   ],
   "source": [
    "print(a * b)\n",
    "print(torch.mul(a, b))"
   ]
  },
  {
   "cell_type": "markdown",
   "id": "498828c8",
   "metadata": {},
   "source": [
    "> Create tensor of size 2x1 filled with 1's that requires gradient"
   ]
  },
  {
   "cell_type": "code",
   "execution_count": 7,
   "id": "a0d214fc",
   "metadata": {},
   "outputs": [
    {
     "data": {
      "text/plain": [
       "tensor([1., 1.], requires_grad=True)"
      ]
     },
     "execution_count": 7,
     "metadata": {},
     "output_type": "execute_result"
    }
   ],
   "source": [
    "x = torch.ones(2, requires_grad=True)\n",
    "x"
   ]
  },
  {
   "cell_type": "markdown",
   "id": "bfafd6d3",
   "metadata": {},
   "source": [
    "> Simple linear equation with x tensor created"
   ]
  },
  {
   "cell_type": "code",
   "execution_count": 8,
   "id": "e54c648a",
   "metadata": {},
   "outputs": [
    {
     "data": {
      "text/plain": [
       "tensor([20., 20.], grad_fn=<MulBackward0>)"
      ]
     },
     "execution_count": 8,
     "metadata": {},
     "output_type": "execute_result"
    }
   ],
   "source": [
    "y = 5 * (x + 1) ** 2\n",
    "y"
   ]
  },
  {
   "cell_type": "markdown",
   "id": "bef7ce55",
   "metadata": {},
   "source": [
    "> Simple equation with y tensor"
   ]
  },
  {
   "cell_type": "code",
   "execution_count": 9,
   "id": "b8574aba",
   "metadata": {},
   "outputs": [
    {
     "data": {
      "text/plain": [
       "tensor(20., grad_fn=<MulBackward0>)"
      ]
     },
     "execution_count": 9,
     "metadata": {},
     "output_type": "execute_result"
    }
   ],
   "source": [
    "o = (1/2) * torch.sum(y)\n",
    "o"
   ]
  },
  {
   "cell_type": "markdown",
   "id": "a4b6b664",
   "metadata": {},
   "source": [
    "> Calculating first derivative"
   ]
  },
  {
   "cell_type": "code",
   "execution_count": 10,
   "id": "c0fcb80d",
   "metadata": {},
   "outputs": [
    {
     "data": {
      "text/plain": [
       "tensor([10., 10.])"
      ]
     },
     "execution_count": 10,
     "metadata": {},
     "output_type": "execute_result"
    }
   ],
   "source": [
    "o.backward()\n",
    "x.grad"
   ]
  },
  {
   "cell_type": "markdown",
   "id": "0d3261e8",
   "metadata": {},
   "source": [
    "> If x requires gradient and you create new objects with it, you get all gradients"
   ]
  },
  {
   "cell_type": "code",
   "execution_count": 11,
   "id": "92aeb854",
   "metadata": {},
   "outputs": [
    {
     "name": "stdout",
     "output_type": "stream",
     "text": [
      "True\n",
      "True\n",
      "True\n"
     ]
    }
   ],
   "source": [
    "print(x.requires_grad)\n",
    "print(y.requires_grad)\n",
    "print(o.requires_grad)"
   ]
  }
 ],
 "metadata": {
  "kernelspec": {
   "display_name": "base",
   "language": "python",
   "name": "python3"
  },
  "language_info": {
   "codemirror_mode": {
    "name": "ipython",
    "version": 3
   },
   "file_extension": ".py",
   "mimetype": "text/x-python",
   "name": "python",
   "nbconvert_exporter": "python",
   "pygments_lexer": "ipython3",
   "version": "3.12.7"
  }
 },
 "nbformat": 4,
 "nbformat_minor": 5
}
