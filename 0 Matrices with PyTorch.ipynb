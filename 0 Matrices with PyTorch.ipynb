{
 "cells": [
  {
   "cell_type": "markdown",
   "id": "170ac8b8",
   "metadata": {},
   "source": [
    "Creating Matrices"
   ]
  },
  {
   "cell_type": "markdown",
   "id": "2849eab4",
   "metadata": {},
   "source": [
    "> Create list"
   ]
  },
  {
   "cell_type": "code",
   "execution_count": 1,
   "id": "5fcb8339",
   "metadata": {},
   "outputs": [
    {
     "name": "stdout",
     "output_type": "stream",
     "text": [
      "[[1, 2], [3, 4]]\n"
     ]
    }
   ],
   "source": [
    "# Creating a 2x2 array\n",
    "arr = [[1, 2], [3, 4]]\n",
    "print(arr)"
   ]
  },
  {
   "cell_type": "markdown",
   "id": "fc6b6b69",
   "metadata": {},
   "source": [
    "> Create numpy array via list"
   ]
  },
  {
   "cell_type": "code",
   "execution_count": 2,
   "id": "55bf9b20",
   "metadata": {},
   "outputs": [
    {
     "data": {
      "text/plain": [
       "array([[1, 2],\n",
       "       [3, 4]])"
      ]
     },
     "execution_count": 2,
     "metadata": {},
     "output_type": "execute_result"
    }
   ],
   "source": [
    "import numpy as np\n",
    "\n",
    "# Convert to NumPy\n",
    "np.array(arr)"
   ]
  },
  {
   "cell_type": "markdown",
   "id": "a22ae2e5",
   "metadata": {},
   "source": [
    "> Convert numpy array to PyTorch tensor"
   ]
  },
  {
   "cell_type": "code",
   "execution_count": 3,
   "id": "2c1dd2bf",
   "metadata": {},
   "outputs": [
    {
     "data": {
      "text/plain": [
       "tensor([[1., 2.],\n",
       "        [3., 4.]])"
      ]
     },
     "execution_count": 3,
     "metadata": {},
     "output_type": "execute_result"
    }
   ],
   "source": [
    "import torch\n",
    "\n",
    "# Convert to PyTorch Tensor\n",
    "torch.Tensor(arr)"
   ]
  },
  {
   "cell_type": "markdown",
   "id": "8ac4c6e0",
   "metadata": {},
   "source": [
    "Create Matrices with Default Values¶"
   ]
  },
  {
   "cell_type": "markdown",
   "id": "c45e314e",
   "metadata": {},
   "source": [
    "> Create 2x2 numpy array of 1's"
   ]
  },
  {
   "cell_type": "code",
   "execution_count": 4,
   "id": "8e552816",
   "metadata": {},
   "outputs": [
    {
     "data": {
      "text/plain": [
       "array([[1., 1.],\n",
       "       [1., 1.]])"
      ]
     },
     "execution_count": 4,
     "metadata": {},
     "output_type": "execute_result"
    }
   ],
   "source": [
    "np.ones((2, 2))"
   ]
  },
  {
   "cell_type": "markdown",
   "id": "8a71722a",
   "metadata": {},
   "source": [
    "> Create 2x2 torch tensor of 1's "
   ]
  },
  {
   "cell_type": "code",
   "execution_count": 5,
   "id": "0973ba9b",
   "metadata": {},
   "outputs": [
    {
     "data": {
      "text/plain": [
       "tensor([[1., 1.],\n",
       "        [1., 1.]])"
      ]
     },
     "execution_count": 5,
     "metadata": {},
     "output_type": "execute_result"
    }
   ],
   "source": [
    "torch.ones((2, 2))"
   ]
  },
  {
   "cell_type": "markdown",
   "id": "0aac9769",
   "metadata": {},
   "source": [
    "> Create 2x2 numpy array of random numbers"
   ]
  },
  {
   "cell_type": "code",
   "execution_count": 6,
   "id": "407cf4e1",
   "metadata": {},
   "outputs": [
    {
     "data": {
      "text/plain": [
       "array([[0.85431578, 0.12445648],\n",
       "       [0.594153  , 0.21290234]])"
      ]
     },
     "execution_count": 6,
     "metadata": {},
     "output_type": "execute_result"
    }
   ],
   "source": [
    "np.random.rand(2, 2)"
   ]
  },
  {
   "cell_type": "markdown",
   "id": "a5f15a8a",
   "metadata": {},
   "source": [
    "> Create 2x2 PyTorch tensor of random numbers"
   ]
  },
  {
   "cell_type": "code",
   "execution_count": 7,
   "id": "6633a6ec",
   "metadata": {},
   "outputs": [
    {
     "data": {
      "text/plain": [
       "tensor([[0.2937, 0.3134],\n",
       "        [0.9113, 0.5081]])"
      ]
     },
     "execution_count": 7,
     "metadata": {},
     "output_type": "execute_result"
    }
   ],
   "source": [
    "torch.rand(2, 2)"
   ]
  },
  {
   "cell_type": "markdown",
   "id": "2ff4c0db",
   "metadata": {},
   "source": [
    "<p style=\"font-family:ComicSansMS; font-size: 24px;\"> Seeds for Reproducibility</p>"
   ]
  },
  {
   "cell_type": "markdown",
   "id": "31d7d02f",
   "metadata": {},
   "source": [
    "> Create seed to enable fixed numbers for random number generation"
   ]
  },
  {
   "cell_type": "code",
   "execution_count": 8,
   "id": "add299aa",
   "metadata": {},
   "outputs": [
    {
     "data": {
      "text/plain": [
       "array([[0.5488135 , 0.71518937],\n",
       "       [0.60276338, 0.54488318]])"
      ]
     },
     "execution_count": 8,
     "metadata": {},
     "output_type": "execute_result"
    }
   ],
   "source": [
    "# Seed\n",
    "np.random.seed(0)\n",
    "np.random.rand(2, 2)"
   ]
  },
  {
   "cell_type": "markdown",
   "id": "267b459b",
   "metadata": {},
   "source": [
    "> Repeat random array generation to check"
   ]
  },
  {
   "cell_type": "code",
   "execution_count": 9,
   "id": "9d69234c",
   "metadata": {},
   "outputs": [
    {
     "data": {
      "text/plain": [
       "array([[0.5488135 , 0.71518937],\n",
       "       [0.60276338, 0.54488318]])"
      ]
     },
     "execution_count": 9,
     "metadata": {},
     "output_type": "execute_result"
    }
   ],
   "source": [
    "# Seed\n",
    "np.random.seed(0)\n",
    "np.random.rand(2, 2)"
   ]
  },
  {
   "cell_type": "markdown",
   "id": "571068d8",
   "metadata": {},
   "source": [
    "> Create a numpy array without seed"
   ]
  },
  {
   "cell_type": "code",
   "execution_count": 10,
   "id": "63942e6c",
   "metadata": {},
   "outputs": [
    {
     "data": {
      "text/plain": [
       "array([[0.4236548 , 0.64589411],\n",
       "       [0.43758721, 0.891773  ]])"
      ]
     },
     "execution_count": 10,
     "metadata": {},
     "output_type": "execute_result"
    }
   ],
   "source": [
    "# No seed\n",
    "np.random.rand(2, 2)"
   ]
  },
  {
   "cell_type": "markdown",
   "id": "64dca396",
   "metadata": {},
   "source": [
    "> Repeat numpy array generation without seed"
   ]
  },
  {
   "cell_type": "code",
   "execution_count": 11,
   "id": "f5c8ff74",
   "metadata": {},
   "outputs": [
    {
     "data": {
      "text/plain": [
       "array([[0.96366276, 0.38344152],\n",
       "       [0.79172504, 0.52889492]])"
      ]
     },
     "execution_count": 11,
     "metadata": {},
     "output_type": "execute_result"
    }
   ],
   "source": [
    "# No seed\n",
    "np.random.rand(2, 2)"
   ]
  },
  {
   "cell_type": "markdown",
   "id": "5deae934",
   "metadata": {},
   "source": [
    "> Create a PyTorch tensor with a fixed seed"
   ]
  },
  {
   "cell_type": "code",
   "execution_count": 13,
   "id": "9a30efcc",
   "metadata": {},
   "outputs": [
    {
     "data": {
      "text/plain": [
       "tensor([[0.4963, 0.7682],\n",
       "        [0.0885, 0.1320]])"
      ]
     },
     "execution_count": 13,
     "metadata": {},
     "output_type": "execute_result"
    }
   ],
   "source": [
    "# Torch Seed\n",
    "torch.manual_seed(0)\n",
    "torch.rand(2, 2)"
   ]
  },
  {
   "cell_type": "markdown",
   "id": "81c19f1c",
   "metadata": {},
   "source": [
    "> Repeat creating a PyTorch fixed seed tensor"
   ]
  },
  {
   "cell_type": "code",
   "execution_count": 14,
   "id": "ad0c367f",
   "metadata": {},
   "outputs": [
    {
     "data": {
      "text/plain": [
       "tensor([[0.4963, 0.7682],\n",
       "        [0.0885, 0.1320]])"
      ]
     },
     "execution_count": 14,
     "metadata": {},
     "output_type": "execute_result"
    }
   ],
   "source": [
    "# Torch Seed\n",
    "torch.manual_seed(0)\n",
    "torch.rand(2, 2)"
   ]
  },
  {
   "cell_type": "markdown",
   "id": "d254efa8",
   "metadata": {},
   "source": [
    "> Creating a PyTorch tensor without seed"
   ]
  },
  {
   "cell_type": "code",
   "execution_count": 15,
   "id": "cf539e2e",
   "metadata": {},
   "outputs": [
    {
     "data": {
      "text/plain": [
       "tensor([[0.3074, 0.6341],\n",
       "        [0.4901, 0.8964]])"
      ]
     },
     "execution_count": 15,
     "metadata": {},
     "output_type": "execute_result"
    }
   ],
   "source": [
    "# Torch No Seed\n",
    "torch.rand(2, 2)"
   ]
  },
  {
   "cell_type": "markdown",
   "id": "7625f4a8",
   "metadata": {},
   "source": [
    "> Repeat creating a PyTorch tensor without seed"
   ]
  },
  {
   "cell_type": "code",
   "execution_count": 16,
   "id": "b1fc35e2",
   "metadata": {},
   "outputs": [
    {
     "data": {
      "text/plain": [
       "tensor([[0.4556, 0.6323],\n",
       "        [0.3489, 0.4017]])"
      ]
     },
     "execution_count": 16,
     "metadata": {},
     "output_type": "execute_result"
    }
   ],
   "source": [
    "# Torch No Seed\n",
    "torch.rand(2, 2)"
   ]
  },
  {
   "cell_type": "markdown",
   "id": "2147049b",
   "metadata": {},
   "source": [
    "> Fix a seed for GPU tensors"
   ]
  },
  {
   "cell_type": "code",
   "execution_count": 17,
   "id": "e462aaa2",
   "metadata": {},
   "outputs": [],
   "source": [
    "if torch.cuda.is_available():\n",
    "    torch.cuda.manual_seed_all(0)"
   ]
  },
  {
   "cell_type": "markdown",
   "id": "f36bffa0",
   "metadata": {},
   "source": [
    "<p style=\"font-family:ComicSansMS; font-size: 24px;\"> NumPy to Torch</p>"
   ]
  },
  {
   "cell_type": "markdown",
   "id": "034dcac2",
   "metadata": {},
   "source": [
    "> Create a numpy array of 1's"
   ]
  },
  {
   "cell_type": "code",
   "execution_count": 18,
   "id": "6c0a4307",
   "metadata": {},
   "outputs": [
    {
     "name": "stdout",
     "output_type": "stream",
     "text": [
      "[[1. 1.]\n",
      " [1. 1.]]\n"
     ]
    }
   ],
   "source": [
    "# Numpy array\n",
    "np_array = np.ones((2, 2))\n",
    "\n",
    "print(np_array)"
   ]
  },
  {
   "cell_type": "markdown",
   "id": "8260fa73",
   "metadata": {},
   "source": [
    "> Get the type of class for the numpy array"
   ]
  },
  {
   "cell_type": "code",
   "execution_count": 19,
   "id": "b193ceda",
   "metadata": {},
   "outputs": [
    {
     "name": "stdout",
     "output_type": "stream",
     "text": [
      "<class 'numpy.ndarray'>\n"
     ]
    }
   ],
   "source": [
    "print(type(np_array))"
   ]
  },
  {
   "cell_type": "markdown",
   "id": "7ca5210e",
   "metadata": {},
   "source": [
    "> Convert numpy array to PyTorch tensor"
   ]
  },
  {
   "cell_type": "code",
   "execution_count": 20,
   "id": "1d78760c",
   "metadata": {},
   "outputs": [
    {
     "name": "stdout",
     "output_type": "stream",
     "text": [
      "tensor([[1., 1.],\n",
      "        [1., 1.]], dtype=torch.float64)\n"
     ]
    }
   ],
   "source": [
    "# Convert to Torch Tensor\n",
    "torch_tensor = torch.from_numpy(np_array)\n",
    "\n",
    "print(torch_tensor)"
   ]
  },
  {
   "cell_type": "markdown",
   "id": "2e1812db",
   "metadata": {},
   "source": [
    "> Get type of class for PyTorch tensor"
   ]
  },
  {
   "cell_type": "code",
   "execution_count": 21,
   "id": "2afe7420",
   "metadata": {},
   "outputs": [
    {
     "name": "stdout",
     "output_type": "stream",
     "text": [
      "<class 'torch.Tensor'>\n"
     ]
    }
   ],
   "source": [
    "print(type(torch_tensor))"
   ]
  },
  {
   "cell_type": "markdown",
   "id": "0f06938a",
   "metadata": {},
   "source": [
    "> Create PyTorch tensor from a different numpy datatype"
   ]
  },
  {
   "cell_type": "code",
   "execution_count": 22,
   "id": "f40f20ff",
   "metadata": {},
   "outputs": [
    {
     "data": {
      "text/plain": [
       "tensor([[1, 1],\n",
       "        [1, 1]], dtype=torch.int8)"
      ]
     },
     "execution_count": 22,
     "metadata": {},
     "output_type": "execute_result"
    }
   ],
   "source": [
    "# Data types matter: intentional error\n",
    "np_array_new = np.ones((2, 2), dtype=np.int8)\n",
    "torch.from_numpy(np_array_new)"
   ]
  },
  {
   "cell_type": "markdown",
   "id": "324b0ae9",
   "metadata": {},
   "source": [
    "> Create PyTorch long tensor"
   ]
  },
  {
   "cell_type": "code",
   "execution_count": 23,
   "id": "4b419df1",
   "metadata": {},
   "outputs": [
    {
     "data": {
      "text/plain": [
       "tensor([[1, 1],\n",
       "        [1, 1]])"
      ]
     },
     "execution_count": 23,
     "metadata": {},
     "output_type": "execute_result"
    }
   ],
   "source": [
    "# Data types matter\n",
    "np_array_new = np.ones((2, 2), dtype=np.int64)\n",
    "torch.from_numpy(np_array_new)"
   ]
  },
  {
   "cell_type": "markdown",
   "id": "18487141",
   "metadata": {},
   "source": [
    "> Create PyTorch int tensor"
   ]
  },
  {
   "cell_type": "code",
   "execution_count": 24,
   "id": "7a998698",
   "metadata": {},
   "outputs": [
    {
     "data": {
      "text/plain": [
       "tensor([[1, 1],\n",
       "        [1, 1]], dtype=torch.int32)"
      ]
     },
     "execution_count": 24,
     "metadata": {},
     "output_type": "execute_result"
    }
   ],
   "source": [
    "# Data types matter\n",
    "np_array_new = np.ones((2, 2), dtype=np.int32)\n",
    "torch.from_numpy(np_array_new)"
   ]
  },
  {
   "cell_type": "markdown",
   "id": "8b100b1d",
   "metadata": {},
   "source": [
    "> Create PyTorch byte tensor"
   ]
  },
  {
   "cell_type": "code",
   "execution_count": 25,
   "id": "46c879f8",
   "metadata": {},
   "outputs": [
    {
     "data": {
      "text/plain": [
       "tensor([[1, 1],\n",
       "        [1, 1]], dtype=torch.uint8)"
      ]
     },
     "execution_count": 25,
     "metadata": {},
     "output_type": "execute_result"
    }
   ],
   "source": [
    "# Data types matter\n",
    "np_array_new = np.ones((2, 2), dtype=np.uint8)\n",
    "torch.from_numpy(np_array_new)"
   ]
  },
  {
   "cell_type": "markdown",
   "id": "58f16a80",
   "metadata": {},
   "source": [
    "> Create PyTorch Double Tensor"
   ]
  },
  {
   "cell_type": "code",
   "execution_count": 26,
   "id": "54403471",
   "metadata": {},
   "outputs": [
    {
     "data": {
      "text/plain": [
       "tensor([[1., 1.],\n",
       "        [1., 1.]], dtype=torch.float64)"
      ]
     },
     "execution_count": 26,
     "metadata": {},
     "output_type": "execute_result"
    }
   ],
   "source": [
    "# Data types matter\n",
    "np_array_new = np.ones((2, 2), dtype=np.float64)\n",
    "torch.from_numpy(np_array_new)"
   ]
  },
  {
   "cell_type": "code",
   "execution_count": 27,
   "id": "eacb0ae3",
   "metadata": {},
   "outputs": [
    {
     "data": {
      "text/plain": [
       "tensor([[1., 1.],\n",
       "        [1., 1.]], dtype=torch.float64)"
      ]
     },
     "execution_count": 27,
     "metadata": {},
     "output_type": "execute_result"
    }
   ],
   "source": [
    "# Alternatively you can do this too via np.double\n",
    "\n",
    "\n",
    "# Data types matter\n",
    "np_array_new = np.ones((2, 2), dtype=np.double)\n",
    "torch.from_numpy(np_array_new)"
   ]
  },
  {
   "cell_type": "markdown",
   "id": "e89af7b7",
   "metadata": {},
   "source": [
    "> Create PyTorch Float Tensor"
   ]
  },
  {
   "cell_type": "code",
   "execution_count": 28,
   "id": "939d4953",
   "metadata": {},
   "outputs": [
    {
     "data": {
      "text/plain": [
       "tensor([[1., 1.],\n",
       "        [1., 1.]])"
      ]
     },
     "execution_count": 28,
     "metadata": {},
     "output_type": "execute_result"
    }
   ],
   "source": [
    "# Data types matter\n",
    "np_array_new = np.ones((2, 2), dtype=np.float32)\n",
    "torch.from_numpy(np_array_new)"
   ]
  }
 ],
 "metadata": {
  "kernelspec": {
   "display_name": "base",
   "language": "python",
   "name": "python3"
  },
  "language_info": {
   "codemirror_mode": {
    "name": "ipython",
    "version": 3
   },
   "file_extension": ".py",
   "mimetype": "text/x-python",
   "name": "python",
   "nbconvert_exporter": "python",
   "pygments_lexer": "ipython3",
   "version": "3.12.7"
  }
 },
 "nbformat": 4,
 "nbformat_minor": 5
}
