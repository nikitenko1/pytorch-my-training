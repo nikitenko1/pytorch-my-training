{
 "cells": [
  {
   "cell_type": "markdown",
   "id": "d4287f5d",
   "metadata": {},
   "source": [
    "<p style=\"font-family:ComicSansMS; font-size: 30px;\"> Linear Regression with PyTorch</p>"
   ]
  },
  {
   "cell_type": "markdown",
   "id": "8577e27c",
   "metadata": {},
   "source": [
    "<p style=\"font-family:ComicSansMS; font-size: 24px;\"> Simple Linear Regression Basics</p>"
   ]
  },
  {
   "cell_type": "markdown",
   "id": "ea8b0af0",
   "metadata": {},
   "source": [
    "> Create plot for simple linear regression"
   ]
  },
  {
   "cell_type": "code",
   "execution_count": 1,
   "id": "ce7f1ab9",
   "metadata": {},
   "outputs": [
    {
     "data": {
      "image/png": "[encoded data removed]",
      "text/plain": [
       "<Figure size 640x480 with 1 Axes>"
      ]
     },
     "metadata": {},
     "output_type": "display_data"
    }
   ],
   "source": [
    "import numpy as np\n",
    "import matplotlib.pyplot as plt\n",
    "%matplotlib inline\n",
    "\n",
    "# Creates 50 random x and y numbers\n",
    "np.random.seed(1)\n",
    "n = 50\n",
    "x = np.random.randn(n)\n",
    "y = x * np.random.randn(n)\n",
    "\n",
    "# Makes the dots colorful\n",
    "colors = np.random.rand(n)\n",
    "\n",
    "# Plots best-fit line via polyfit\n",
    "plt.plot(np.unique(x), np.poly1d(np.polyfit(x, y, 1))(np.unique(x)))\n",
    "\n",
    "# Plots the random x and y data points we created\n",
    "# Interestingly, alpha makes it more aesthetically pleasing\n",
    "plt.scatter(x, y, c=colors, alpha=0.5)\n",
    "plt.show()"
   ]
  },
  {
   "cell_type": "markdown",
   "id": "f0fe8efc",
   "metadata": {},
   "source": [
    "<p style=\"font-family:ComicSansMS; font-size: 24px;\"> Building a Linear Regression Model with PyTorch</p>"
   ]
  },
  {
   "cell_type": "markdown",
   "id": "559d1568",
   "metadata": {},
   "source": [
    "> Create a list of values from 0 to 11"
   ]
  },
  {
   "cell_type": "code",
   "execution_count": 2,
   "id": "635a5596",
   "metadata": {},
   "outputs": [
    {
     "data": {
      "text/plain": [
       "[0, 1, 2, 3, 4, 5, 6, 7, 8, 9, 10]"
      ]
     },
     "execution_count": 2,
     "metadata": {},
     "output_type": "execute_result"
    }
   ],
   "source": [
    "x_values = [i for i in range(11)]\n",
    "\n",
    "x_values"
   ]
  },
  {
   "cell_type": "markdown",
   "id": "b4c75869",
   "metadata": {},
   "source": [
    "> Convert list of numbers to numpy array"
   ]
  },
  {
   "cell_type": "code",
   "execution_count": 3,
   "id": "f5805021",
   "metadata": {},
   "outputs": [
    {
     "data": {
      "text/plain": [
       "(11,)"
      ]
     },
     "execution_count": 3,
     "metadata": {},
     "output_type": "execute_result"
    }
   ],
   "source": [
    "# Convert to numpy\n",
    "x_train = np.array(x_values, dtype=np.float32)\n",
    "x_train.shape"
   ]
  },
  {
   "cell_type": "markdown",
   "id": "ba45f940",
   "metadata": {},
   "source": [
    "> Convert to 2-dimensional array"
   ]
  },
  {
   "cell_type": "code",
   "execution_count": 4,
   "id": "cfc072dc",
   "metadata": {},
   "outputs": [
    {
     "data": {
      "text/plain": [
       "(11, 1)"
      ]
     },
     "execution_count": 4,
     "metadata": {},
     "output_type": "execute_result"
    }
   ],
   "source": [
    "# IMPORTANT: 2D required\n",
    "x_train = x_train.reshape(-1, 1)\n",
    "x_train.shape"
   ]
  },
  {
   "cell_type": "markdown",
   "id": "745bc072",
   "metadata": {},
   "source": [
    "> Create list of y values"
   ]
  },
  {
   "cell_type": "code",
   "execution_count": 5,
   "id": "ebd830d1",
   "metadata": {},
   "outputs": [
    {
     "data": {
      "text/plain": [
       "[1, 3, 5, 7, 9, 11, 13, 15, 17, 19, 21]"
      ]
     },
     "execution_count": 5,
     "metadata": {},
     "output_type": "execute_result"
    }
   ],
   "source": [
    "y_values = [2*i + 1 for i in x_values]\n",
    "\n",
    "y_values"
   ]
  },
  {
   "cell_type": "markdown",
   "id": "d34978e4",
   "metadata": {},
   "source": [
    "> Alternative to create list of y values"
   ]
  },
  {
   "cell_type": "code",
   "execution_count": 6,
   "id": "22639910",
   "metadata": {},
   "outputs": [
    {
     "data": {
      "text/plain": [
       "[1, 3, 5, 7, 9, 11, 13, 15, 17, 19, 21]"
      ]
     },
     "execution_count": 6,
     "metadata": {},
     "output_type": "execute_result"
    }
   ],
   "source": [
    "# In case you're weak in list iterators...\n",
    "y_values = []\n",
    "for i in x_values:\n",
    "    result = 2*i + 1\n",
    "    y_values.append(result) \n",
    "\n",
    "y_values"
   ]
  },
  {
   "cell_type": "markdown",
   "id": "1b929a77",
   "metadata": {},
   "source": [
    "> Convert to numpy array"
   ]
  },
  {
   "cell_type": "code",
   "execution_count": 7,
   "id": "99e62d7e",
   "metadata": {},
   "outputs": [
    {
     "data": {
      "text/plain": [
       "(11,)"
      ]
     },
     "execution_count": 7,
     "metadata": {},
     "output_type": "execute_result"
    }
   ],
   "source": [
    "y_train = np.array(y_values, dtype=np.float32)\n",
    "y_train.shape"
   ]
  },
  {
   "cell_type": "markdown",
   "id": "6745a435",
   "metadata": {},
   "source": [
    "> Reshape y numpy array to 2-dimension"
   ]
  },
  {
   "cell_type": "code",
   "execution_count": 8,
   "id": "ea3a2709",
   "metadata": {},
   "outputs": [
    {
     "data": {
      "text/plain": [
       "(11, 1)"
      ]
     },
     "execution_count": 8,
     "metadata": {},
     "output_type": "execute_result"
    }
   ],
   "source": [
    "# IMPORTANT: 2D required\n",
    "y_train = y_train.reshape(-1, 1)\n",
    "y_train.shape"
   ]
  },
  {
   "cell_type": "markdown",
   "id": "42ecdfc1",
   "metadata": {},
   "source": [
    "<p style=\"font-family:ComicSansMS; font-size: 24px;\"> Building Model</p>"
   ]
  },
  {
   "cell_type": "markdown",
   "id": "382e607a",
   "metadata": {},
   "source": [
    "> Critical Imports"
   ]
  },
  {
   "cell_type": "code",
   "execution_count": 9,
   "id": "d2f3c8dc",
   "metadata": {},
   "outputs": [],
   "source": [
    "import torch\n",
    "import torch.nn as nn"
   ]
  },
  {
   "cell_type": "markdown",
   "id": "5e0e83ba",
   "metadata": {},
   "source": [
    "> Create Model"
   ]
  },
  {
   "cell_type": "code",
   "execution_count": 10,
   "id": "110f4d06",
   "metadata": {},
   "outputs": [],
   "source": [
    "# Create class\n",
    "class LinearRegressionModel(nn.Module):\n",
    "    def __init__(self, input_dim, output_dim):\n",
    "        super(LinearRegressionModel, self).__init__()\n",
    "        self.linear = nn.Linear(input_dim, output_dim)  \n",
    "\n",
    "    def forward(self, x):\n",
    "        out = self.linear(x)\n",
    "        return out"
   ]
  },
  {
   "cell_type": "markdown",
   "id": "6addd8f3",
   "metadata": {},
   "source": [
    "> Instantiate Model Class"
   ]
  },
  {
   "cell_type": "code",
   "execution_count": 11,
   "id": "9f2d7f73",
   "metadata": {},
   "outputs": [],
   "source": [
    "input_dim = 1\n",
    "output_dim = 1\n",
    "\n",
    "model = LinearRegressionModel(input_dim, output_dim)"
   ]
  },
  {
   "cell_type": "markdown",
   "id": "4cc9b398",
   "metadata": {},
   "source": [
    "> Instantiate Loss Class"
   ]
  },
  {
   "cell_type": "code",
   "execution_count": 13,
   "id": "4809e655",
   "metadata": {},
   "outputs": [],
   "source": [
    "# MSE Loss: Mean Squared Error\n",
    "criterion = nn.MSELoss()"
   ]
  },
  {
   "cell_type": "markdown",
   "id": "4ec255e4",
   "metadata": {},
   "source": [
    "> Instantiate Optimizer Class"
   ]
  },
  {
   "cell_type": "code",
   "execution_count": 14,
   "id": "95e99989",
   "metadata": {},
   "outputs": [],
   "source": [
    "# parameters = parameters - learning_rate * parameters_gradients\n",
    "learning_rate = 0.01\n",
    "\n",
    "optimizer = torch.optim.SGD(model.parameters(), lr=learning_rate)"
   ]
  },
  {
   "cell_type": "markdown",
   "id": "48c96fd4",
   "metadata": {},
   "source": [
    "> Train Model"
   ]
  },
  {
   "cell_type": "code",
   "execution_count": 15,
   "id": "340d9c5f",
   "metadata": {},
   "outputs": [
    {
     "name": "stdout",
     "output_type": "stream",
     "text": [
      "epoch 1, loss 154.52987670898438\n",
      "epoch 2, loss 12.61141300201416\n",
      "epoch 3, loss 1.0354937314987183\n",
      "epoch 4, loss 0.0912063866853714\n",
      "epoch 5, loss 0.0141085684299469\n",
      "epoch 6, loss 0.007745413575321436\n",
      "epoch 7, loss 0.007152784150093794\n",
      "epoch 8, loss 0.007031572982668877\n",
      "epoch 9, loss 0.006949733477085829\n",
      "epoch 10, loss 0.006871786434203386\n",
      "epoch 11, loss 0.006795050110667944\n",
      "epoch 12, loss 0.006719197612255812\n",
      "epoch 13, loss 0.006644177716225386\n",
      "epoch 14, loss 0.006569959688931704\n",
      "epoch 15, loss 0.006496603600680828\n",
      "epoch 16, loss 0.006424051709473133\n",
      "epoch 17, loss 0.006352339405566454\n",
      "epoch 18, loss 0.006281390320509672\n",
      "epoch 19, loss 0.006211227271705866\n",
      "epoch 20, loss 0.006141864228993654\n",
      "epoch 21, loss 0.006073283031582832\n",
      "epoch 22, loss 0.0060054645873606205\n",
      "epoch 23, loss 0.005938408896327019\n",
      "epoch 24, loss 0.005872093606740236\n",
      "epoch 25, loss 0.0058065177872776985\n",
      "epoch 26, loss 0.005741667468100786\n",
      "epoch 27, loss 0.0056775533594191074\n",
      "epoch 28, loss 0.005614153575152159\n",
      "epoch 29, loss 0.005551448091864586\n",
      "epoch 30, loss 0.005489489529281855\n",
      "epoch 31, loss 0.0054281409829854965\n",
      "epoch 32, loss 0.0053675672970712185\n",
      "epoch 33, loss 0.005307599436491728\n",
      "epoch 34, loss 0.005248320754617453\n",
      "epoch 35, loss 0.005189737305045128\n",
      "epoch 36, loss 0.00513179786503315\n",
      "epoch 37, loss 0.005074484273791313\n",
      "epoch 38, loss 0.005017793737351894\n",
      "epoch 39, loss 0.004961760248988867\n",
      "epoch 40, loss 0.004906363319605589\n",
      "epoch 41, loss 0.004851606208831072\n",
      "epoch 42, loss 0.004797413479536772\n",
      "epoch 43, loss 0.004743856843560934\n",
      "epoch 44, loss 0.004690865520387888\n",
      "epoch 45, loss 0.004638476297259331\n",
      "epoch 46, loss 0.004586696159094572\n",
      "epoch 47, loss 0.00453543895855546\n",
      "epoch 48, loss 0.004484819248318672\n",
      "epoch 49, loss 0.004434748087078333\n",
      "epoch 50, loss 0.004385211039334536\n",
      "epoch 51, loss 0.004336251877248287\n",
      "epoch 52, loss 0.004287835210561752\n",
      "epoch 53, loss 0.004239937756210566\n",
      "epoch 54, loss 0.004192611202597618\n",
      "epoch 55, loss 0.004145774990320206\n",
      "epoch 56, loss 0.004099487327039242\n",
      "epoch 57, loss 0.004053691867738962\n",
      "epoch 58, loss 0.0040084365755319595\n",
      "epoch 59, loss 0.003963700495660305\n",
      "epoch 60, loss 0.0039194016717374325\n",
      "epoch 61, loss 0.0038756420835852623\n",
      "epoch 62, loss 0.0038323646876960993\n",
      "epoch 63, loss 0.0037895748391747475\n",
      "epoch 64, loss 0.003747262293472886\n",
      "epoch 65, loss 0.003705389564856887\n",
      "epoch 66, loss 0.003664040705189109\n",
      "epoch 67, loss 0.003623122815042734\n",
      "epoch 68, loss 0.0035826354287564754\n",
      "epoch 69, loss 0.0035426539834588766\n",
      "epoch 70, loss 0.0035030881408602\n",
      "epoch 71, loss 0.00346396560780704\n",
      "epoch 72, loss 0.0034252824261784554\n",
      "epoch 73, loss 0.003387069795280695\n",
      "epoch 74, loss 0.003349218750372529\n",
      "epoch 75, loss 0.003311827080324292\n",
      "epoch 76, loss 0.0032748430967330933\n",
      "epoch 77, loss 0.003238270990550518\n",
      "epoch 78, loss 0.0032021256629377604\n",
      "epoch 79, loss 0.0031663537956774235\n",
      "epoch 80, loss 0.003130996832624078\n",
      "epoch 81, loss 0.00309605966322124\n",
      "epoch 82, loss 0.003061458468437195\n",
      "epoch 83, loss 0.003027266124263406\n",
      "epoch 84, loss 0.002993454923853278\n",
      "epoch 85, loss 0.002960056299343705\n",
      "epoch 86, loss 0.002926995512098074\n",
      "epoch 87, loss 0.0028943114448338747\n",
      "epoch 88, loss 0.0028619887307286263\n",
      "epoch 89, loss 0.0028300301637500525\n",
      "epoch 90, loss 0.0027984234038740396\n",
      "epoch 91, loss 0.002767162397503853\n",
      "epoch 92, loss 0.002736259251832962\n",
      "epoch 93, loss 0.002705744467675686\n",
      "epoch 94, loss 0.002675508614629507\n",
      "epoch 95, loss 0.0026456217747181654\n",
      "epoch 96, loss 0.0026160951238125563\n",
      "epoch 97, loss 0.002586884656921029\n",
      "epoch 98, loss 0.0025579906068742275\n",
      "epoch 99, loss 0.0025294271763414145\n",
      "epoch 100, loss 0.002501176903024316\n"
     ]
    }
   ],
   "source": [
    "# 1 epoch: going through the whole x_train data once\n",
    "\n",
    "# 100 epochs:\n",
    "# 100x mapping x_train = [0, 1, 2, 3, 4, 5, 6, 7, 8, 9, 10]\n",
    "# Process\n",
    "\n",
    "# Convert inputs/labels to tensors with gradients\n",
    "# Clear gradient buffers\n",
    "# Get output given inputs\n",
    "# Get loss\n",
    "# Get gradients w.r.t. parameters\n",
    "# Update parameters using gradients\n",
    "# parameters = parameters - learning_rate * parameters_gradients\n",
    "# REPEAT\n",
    "epochs = 100\n",
    "for epoch in range(epochs):\n",
    "    epoch += 1\n",
    "    # Convert numpy array to torch Variable\n",
    "    inputs = torch.from_numpy(x_train).requires_grad_()\n",
    "    labels = torch.from_numpy(y_train)\n",
    "\n",
    "    # Clear gradients w.r.t. parameters\n",
    "    optimizer.zero_grad() \n",
    "\n",
    "    # Forward to get output\n",
    "    outputs = model(inputs)\n",
    "\n",
    "    # Calculate Loss\n",
    "    loss = criterion(outputs, labels)\n",
    "\n",
    "    # Getting gradients w.r.t. parameters\n",
    "    loss.backward()\n",
    "\n",
    "    # Updating parameters\n",
    "    optimizer.step()\n",
    "\n",
    "    print('epoch {}, loss {}'.format(epoch, loss.item()))"
   ]
  },
  {
   "cell_type": "markdown",
   "id": "07dfc21a",
   "metadata": {},
   "source": [
    "> Looking at predicted values"
   ]
  },
  {
   "cell_type": "code",
   "execution_count": 16,
   "id": "29bc8f8f",
   "metadata": {},
   "outputs": [
    {
     "data": {
      "text/plain": [
       "array([[ 1.093032 ],\n",
       "       [ 3.0796347],\n",
       "       [ 5.066237 ],\n",
       "       [ 7.0528393],\n",
       "       [ 9.039442 ],\n",
       "       [11.026045 ],\n",
       "       [13.012647 ],\n",
       "       [14.999249 ],\n",
       "       [16.985853 ],\n",
       "       [18.972456 ],\n",
       "       [20.959059 ]], dtype=float32)"
      ]
     },
     "execution_count": 16,
     "metadata": {},
     "output_type": "execute_result"
    }
   ],
   "source": [
    "# Purely inference\n",
    "predicted = model(torch.from_numpy(x_train).requires_grad_()).data.numpy()\n",
    "predicted"
   ]
  },
  {
   "cell_type": "markdown",
   "id": "16062d4a",
   "metadata": {},
   "source": [
    "> Looking at training values"
   ]
  },
  {
   "cell_type": "code",
   "execution_count": 17,
   "id": "ac9f8820",
   "metadata": {},
   "outputs": [
    {
     "data": {
      "text/plain": [
       "array([[ 1.],\n",
       "       [ 3.],\n",
       "       [ 5.],\n",
       "       [ 7.],\n",
       "       [ 9.],\n",
       "       [11.],\n",
       "       [13.],\n",
       "       [15.],\n",
       "       [17.],\n",
       "       [19.],\n",
       "       [21.]], dtype=float32)"
      ]
     },
     "execution_count": 17,
     "metadata": {},
     "output_type": "execute_result"
    }
   ],
   "source": [
    "# y = 2x + 1 \n",
    "y_train"
   ]
  },
  {
   "cell_type": "markdown",
   "id": "c7d8a09f",
   "metadata": {},
   "source": [
    "> Plot of predicted and actual values"
   ]
  },
  {
   "cell_type": "code",
   "execution_count": 18,
   "id": "21bdb084",
   "metadata": {},
   "outputs": [
    {
     "data": {
      "image/png": "[encoded data removed]",
      "text/plain": [
       "<Figure size 640x480 with 1 Axes>"
      ]
     },
     "metadata": {},
     "output_type": "display_data"
    }
   ],
   "source": [
    "# Clear figure\n",
    "plt.clf()\n",
    "\n",
    "# Get predictions\n",
    "predicted = model(torch.from_numpy(x_train).requires_grad_()).data.numpy()\n",
    "\n",
    "# Plot true data\n",
    "plt.plot(x_train, y_train, 'go', label='True data', alpha=0.5)\n",
    "\n",
    "# Plot predictions\n",
    "plt.plot(x_train, predicted, '--', label='Predictions', alpha=0.5)\n",
    "\n",
    "# Legend and plot\n",
    "plt.legend(loc='best')\n",
    "plt.show()"
   ]
  },
  {
   "cell_type": "markdown",
   "id": "ad528540",
   "metadata": {},
   "source": [
    "> Save Model"
   ]
  },
  {
   "cell_type": "code",
   "execution_count": 19,
   "id": "33bb530b",
   "metadata": {},
   "outputs": [],
   "source": [
    "save_model = False\n",
    "if save_model is True:\n",
    "    # Saves only parameters\n",
    "    # alpha & beta\n",
    "    torch.save(model.state_dict(), 'awesome_model.pkl')"
   ]
  },
  {
   "cell_type": "markdown",
   "id": "d5426f41",
   "metadata": {},
   "source": [
    "> Load Model"
   ]
  },
  {
   "cell_type": "code",
   "execution_count": 20,
   "id": "638486de",
   "metadata": {},
   "outputs": [],
   "source": [
    "load_model = False\n",
    "if load_model is True:\n",
    "    model.load_state_dict(torch.load('awesome_model.pkl'))"
   ]
  },
  {
   "cell_type": "markdown",
   "id": "1c11252b",
   "metadata": {},
   "source": [
    "<p style=\"font-family:ComicSansMS; font-size: 24px;\"> Building a Linear Regression Model with PyTorch (GPU)</p>"
   ]
  },
  {
   "cell_type": "code",
   "execution_count": 22,
   "id": "b1bbc269",
   "metadata": {},
   "outputs": [
    {
     "name": "stdout",
     "output_type": "stream",
     "text": [
      "epoch 1, loss 205.57894897460938\n",
      "epoch 2, loss 16.84846305847168\n",
      "epoch 3, loss 1.453416109085083\n",
      "epoch 4, loss 0.19680553674697876\n",
      "epoch 5, loss 0.0934341624379158\n",
      "epoch 6, loss 0.08413846045732498\n",
      "epoch 7, loss 0.08252570033073425\n",
      "epoch 8, loss 0.08154934644699097\n",
      "epoch 9, loss 0.08063424378633499\n",
      "epoch 10, loss 0.07973343878984451\n",
      "epoch 11, loss 0.07884304970502853\n",
      "epoch 12, loss 0.07796252518892288\n",
      "epoch 13, loss 0.0770920142531395\n",
      "epoch 14, loss 0.07623115181922913\n",
      "epoch 15, loss 0.075379878282547\n",
      "epoch 16, loss 0.0745382234454155\n",
      "epoch 17, loss 0.07370575517416\n",
      "epoch 18, loss 0.07288269698619843\n",
      "epoch 19, loss 0.07206882536411285\n",
      "epoch 20, loss 0.07126390188932419\n",
      "epoch 21, loss 0.07046815752983093\n",
      "epoch 22, loss 0.06968136131763458\n",
      "epoch 23, loss 0.06890329718589783\n",
      "epoch 24, loss 0.06813371926546097\n",
      "epoch 25, loss 0.06737305223941803\n",
      "epoch 26, loss 0.0666205883026123\n",
      "epoch 27, loss 0.06587660312652588\n",
      "epoch 28, loss 0.06514102965593338\n",
      "epoch 29, loss 0.06441346555948257\n",
      "epoch 30, loss 0.06369434297084808\n",
      "epoch 31, loss 0.06298299133777618\n",
      "epoch 32, loss 0.06227973476052284\n",
      "epoch 33, loss 0.06158433109521866\n",
      "epoch 34, loss 0.06089641898870468\n",
      "epoch 35, loss 0.06021658331155777\n",
      "epoch 36, loss 0.05954411253333092\n",
      "epoch 37, loss 0.058879170566797256\n",
      "epoch 38, loss 0.05822170898318291\n",
      "epoch 39, loss 0.057571545243263245\n",
      "epoch 40, loss 0.0569286085665226\n",
      "epoch 41, loss 0.056292954832315445\n",
      "epoch 42, loss 0.055664170533418655\n",
      "epoch 43, loss 0.055042680352926254\n",
      "epoch 44, loss 0.05442795529961586\n",
      "epoch 45, loss 0.05382031202316284\n",
      "epoch 46, loss 0.05321922153234482\n",
      "epoch 47, loss 0.05262487754225731\n",
      "epoch 48, loss 0.052037276327610016\n",
      "epoch 49, loss 0.05145624652504921\n",
      "epoch 50, loss 0.050881531089544296\n",
      "epoch 51, loss 0.05031336843967438\n",
      "epoch 52, loss 0.04975157976150513\n",
      "epoch 53, loss 0.04919600859284401\n",
      "epoch 54, loss 0.04864667356014252\n",
      "epoch 55, loss 0.04810342937707901\n",
      "epoch 56, loss 0.047566164284944534\n",
      "epoch 57, loss 0.047035083174705505\n",
      "epoch 58, loss 0.04650981351733208\n",
      "epoch 59, loss 0.04599044471979141\n",
      "epoch 60, loss 0.04547692835330963\n",
      "epoch 61, loss 0.04496905952692032\n",
      "epoch 62, loss 0.04446696862578392\n",
      "epoch 63, loss 0.04397045820951462\n",
      "epoch 64, loss 0.04347936809062958\n",
      "epoch 65, loss 0.04299378767609596\n",
      "epoch 66, loss 0.04251369833946228\n",
      "epoch 67, loss 0.04203897714614868\n",
      "epoch 68, loss 0.0415695458650589\n",
      "epoch 69, loss 0.041105370968580246\n",
      "epoch 70, loss 0.0406462624669075\n",
      "epoch 71, loss 0.04019243270158768\n",
      "epoch 72, loss 0.03974359482526779\n",
      "epoch 73, loss 0.03929982706904411\n",
      "epoch 74, loss 0.03886088728904724\n",
      "epoch 75, loss 0.0384269617497921\n",
      "epoch 76, loss 0.03799779713153839\n",
      "epoch 77, loss 0.037573594599962234\n",
      "epoch 78, loss 0.03715391457080841\n",
      "epoch 79, loss 0.03673906624317169\n",
      "epoch 80, loss 0.03632873669266701\n",
      "epoch 81, loss 0.03592317923903465\n",
      "epoch 82, loss 0.0355219841003418\n",
      "epoch 83, loss 0.03512536361813545\n",
      "epoch 84, loss 0.03473309054970741\n",
      "epoch 85, loss 0.03434518724679947\n",
      "epoch 86, loss 0.033961717039346695\n",
      "epoch 87, loss 0.03358244523406029\n",
      "epoch 88, loss 0.033207476139068604\n",
      "epoch 89, loss 0.03283662721514702\n",
      "epoch 90, loss 0.03246993571519852\n",
      "epoch 91, loss 0.03210733085870743\n",
      "epoch 92, loss 0.03174882382154465\n",
      "epoch 93, loss 0.03139427676796913\n",
      "epoch 94, loss 0.031043676659464836\n",
      "epoch 95, loss 0.030697030946612358\n",
      "epoch 96, loss 0.03035428375005722\n",
      "epoch 97, loss 0.030015338212251663\n",
      "epoch 98, loss 0.0296801570802927\n",
      "epoch 99, loss 0.029348665848374367\n",
      "epoch 100, loss 0.02902095392346382\n"
     ]
    }
   ],
   "source": [
    "import torch\n",
    "import torch.nn as nn\n",
    "\n",
    "'''\n",
    "STEP 1: CREATE MODEL CLASS\n",
    "'''\n",
    "class LinearRegressionModel(nn.Module):\n",
    "    def __init__(self, input_dim, output_dim):\n",
    "        super(LinearRegressionModel, self).__init__()\n",
    "        self.linear = nn.Linear(input_dim, output_dim)  \n",
    "\n",
    "    def forward(self, x):\n",
    "        out = self.linear(x)\n",
    "        return out\n",
    "\n",
    "'''\n",
    "STEP 2: INSTANTIATE MODEL CLASS\n",
    "'''\n",
    "input_dim = 1\n",
    "output_dim = 1\n",
    "\n",
    "model = LinearRegressionModel(input_dim, output_dim)\n",
    "\n",
    "'''\n",
    "STEP 3: INSTANTIATE LOSS CLASS\n",
    "'''\n",
    "\n",
    "criterion = nn.MSELoss()\n",
    "\n",
    "'''\n",
    "STEP 4: INSTANTIATE OPTIMIZER CLASS\n",
    "'''\n",
    "\n",
    "learning_rate = 0.01\n",
    "\n",
    "optimizer = torch.optim.SGD(model.parameters(), lr=learning_rate)\n",
    "\n",
    "'''\n",
    "STEP 5: TRAIN THE MODEL\n",
    "'''\n",
    "epochs = 100\n",
    "for epoch in range(epochs):\n",
    "    epoch += 1\n",
    "    # Convert numpy array to torch Variable\n",
    "    inputs = torch.from_numpy(x_train).requires_grad_()\n",
    "    labels = torch.from_numpy(y_train)\n",
    "\n",
    "    # Clear gradients w.r.t. parameters\n",
    "    optimizer.zero_grad() \n",
    "\n",
    "    # Forward to get output\n",
    "    outputs = model(inputs)\n",
    "\n",
    "    # Calculate Loss\n",
    "    loss = criterion(outputs, labels)\n",
    "\n",
    "    # Getting gradients w.r.t. parameters\n",
    "    loss.backward()\n",
    "\n",
    "    # Updating parameters\n",
    "    optimizer.step()\n",
    "\n",
    "    # Logging\n",
    "    print('epoch {}, loss {}'.format(epoch, loss.item()))"
   ]
  },
  {
   "cell_type": "code",
   "execution_count": null,
   "id": "1f5b7e95",
   "metadata": {},
   "outputs": [],
   "source": []
  }
 ],
 "metadata": {
  "kernelspec": {
   "display_name": "base",
   "language": "python",
   "name": "python3"
  },
  "language_info": {
   "codemirror_mode": {
    "name": "ipython",
    "version": 3
   },
   "file_extension": ".py",
   "mimetype": "text/x-python",
   "name": "python",
   "nbconvert_exporter": "python",
   "pygments_lexer": "ipython3",
   "version": "3.12.7"
  }
 },
 "nbformat": 4,
 "nbformat_minor": 5
}
