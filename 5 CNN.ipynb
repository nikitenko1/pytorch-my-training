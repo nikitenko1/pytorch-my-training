{
 "cells": [
  {
   "cell_type": "markdown",
   "id": "d4287f5d",
   "metadata": {},
   "source": [
    "<p style=\"font-family:ComicSansMS; font-size: 30px;\"> Convolutional Neural Network with PyTorch</p>"
   ]
  },
  {
   "cell_type": "markdown",
   "id": "f6de6c88",
   "metadata": {},
   "source": [
    "<p style=\"font-family:ComicSansMS; font-size: 24px; color: magenta\"> Model A ¶</p>"
   ]
  },
  {
   "cell_type": "markdown",
   "id": "4638e3af",
   "metadata": {},
   "source": [
    "<p style=\"font-family:ComicSansMS; font-size: 16px; color: magenta\"> 2 Convolutional Layers ¶</p>\n",
    "<p style=\"font-family:ComicSansMS; font-size: 16px; color: magenta\"> Same Padding (same output size) ¶</p>\n",
    "<p style=\"font-family:ComicSansMS; font-size: 22px; color: yellow\"> 2 Max Pooling Layers ¶</p>\n",
    "<p style=\"font-family:ComicSansMS; font-size: 16px; color: magenta\"> 1 Fully Connected Layer ¶</p>"
   ]
  },
  {
   "cell_type": "code",
   "execution_count": 1,
   "id": "30d4eae7",
   "metadata": {},
   "outputs": [],
   "source": [
    "# Steps¶\n",
    "# Step 1: Load Dataset\n",
    "# Step 2: Make Dataset Iterable\n",
    "# Step 3: Create Model Class\n",
    "# Step 4: Instantiate Model Class\n",
    "# Step 5: Instantiate Loss Class\n",
    "# Step 6: Instantiate Optimizer Class\n",
    "# Step 7: Train Model"
   ]
  },
  {
   "cell_type": "markdown",
   "id": "d6cf2d02",
   "metadata": {},
   "source": [
    "> Step 1: Loading MNIST Train Dataset "
   ]
  },
  {
   "cell_type": "markdown",
   "id": "6e49c665",
   "metadata": {},
   "source": [
    "> Images from 1 to 9"
   ]
  },
  {
   "cell_type": "markdown",
   "id": "79ffa42a",
   "metadata": {},
   "source": [
    "> MNIST Dataset and Size of Training Dataset (Excluding Labels)"
   ]
  },
  {
   "cell_type": "code",
   "execution_count": 10,
   "id": "90994bbb",
   "metadata": {},
   "outputs": [
    {
     "name": "stderr",
     "output_type": "stream",
     "text": [
      "100%|██████████| 9.91M/9.91M [00:04<00:00, 1.99MB/s]\n",
      "100%|██████████| 28.9k/28.9k [00:00<00:00, 7.22MB/s]\n",
      "100%|██████████| 1.65M/1.65M [00:01<00:00, 1.27MB/s]\n",
      "100%|██████████| 4.54k/4.54k [00:00<00:00, 1.51MB/s]"
     ]
    },
    {
     "name": "stdout",
     "output_type": "stream",
     "text": [
      "torch.Size([60000, 28, 28])\n"
     ]
    },
    {
     "name": "stderr",
     "output_type": "stream",
     "text": [
      "\n"
     ]
    }
   ],
   "source": [
    "import torch\n",
    "import torch.nn as nn\n",
    "import torchvision.transforms as transforms\n",
    "import torchvision.datasets as dsets\n",
    "\n",
    "train_dataset = dsets.MNIST(root='./data', \n",
    "                            train=True, \n",
    "                            transform=transforms.ToTensor(),\n",
    "                            download=True)\n",
    "\n",
    "test_dataset = dsets.MNIST(root='./data', \n",
    "                           train=False, \n",
    "                           transform=transforms.ToTensor())\n",
    "\n",
    "print(train_dataset.train_data.size())"
   ]
  },
  {
   "cell_type": "markdown",
   "id": "8c28ffa4",
   "metadata": {},
   "source": [
    "> Size of our training dataset labels"
   ]
  },
  {
   "cell_type": "code",
   "execution_count": 11,
   "id": "f45e6d09",
   "metadata": {},
   "outputs": [
    {
     "name": "stdout",
     "output_type": "stream",
     "text": [
      "torch.Size([60000])\n"
     ]
    }
   ],
   "source": [
    "print(train_dataset.train_labels.size())"
   ]
  },
  {
   "cell_type": "markdown",
   "id": "db84634c",
   "metadata": {},
   "source": [
    "> Size of our testing dataset (excluding labels)"
   ]
  },
  {
   "cell_type": "code",
   "execution_count": 12,
   "id": "011b609d",
   "metadata": {},
   "outputs": [
    {
     "name": "stdout",
     "output_type": "stream",
     "text": [
      "torch.Size([10000, 28, 28])\n"
     ]
    }
   ],
   "source": [
    "print(test_dataset.test_data.size())"
   ]
  },
  {
   "cell_type": "markdown",
   "id": "c49c2b6b",
   "metadata": {},
   "source": [
    "> Size of our testing dataset labels"
   ]
  },
  {
   "cell_type": "code",
   "execution_count": 13,
   "id": "1f90a8de",
   "metadata": {},
   "outputs": [
    {
     "name": "stdout",
     "output_type": "stream",
     "text": [
      "torch.Size([10000])\n"
     ]
    }
   ],
   "source": [
    "print(test_dataset.test_labels.size())"
   ]
  },
  {
   "cell_type": "markdown",
   "id": "275bf476",
   "metadata": {},
   "source": [
    "> Step 2: Make Dataset Iterable"
   ]
  },
  {
   "cell_type": "markdown",
   "id": "f82abacb",
   "metadata": {},
   "source": [
    "> Load Dataset into Dataloader"
   ]
  },
  {
   "cell_type": "code",
   "execution_count": 14,
   "id": "d492f496",
   "metadata": {},
   "outputs": [],
   "source": [
    "batch_size = 100\n",
    "n_iters = 3000\n",
    "num_epochs = n_iters / (len(train_dataset) / batch_size)\n",
    "num_epochs = int(num_epochs)\n",
    "\n",
    "train_loader = torch.utils.data.DataLoader(dataset=train_dataset, \n",
    "                                           batch_size=batch_size, \n",
    "                                           shuffle=True)\n",
    "\n",
    "test_loader = torch.utils.data.DataLoader(dataset=test_dataset, \n",
    "                                          batch_size=batch_size, \n",
    "                                          shuffle=False)"
   ]
  },
  {
   "cell_type": "markdown",
   "id": "35b3de21",
   "metadata": {},
   "source": [
    "> Step 3: Create Model Class"
   ]
  },
  {
   "cell_type": "markdown",
   "id": "16e3a426",
   "metadata": {},
   "source": [
    "> Define our simple 2 convolutional layer CNN"
   ]
  },
  {
   "cell_type": "code",
   "execution_count": 15,
   "id": "62da0836",
   "metadata": {},
   "outputs": [],
   "source": [
    "class CNNModel(nn.Module):\n",
    "    def __init__(self):\n",
    "        super(CNNModel, self).__init__()\n",
    "\n",
    "        # Convolution 1\n",
    "        self.cnn1 = nn.Conv2d(in_channels=1, out_channels=16, kernel_size=5, stride=1, padding=2)\n",
    "        self.relu1 = nn.ReLU()\n",
    "\n",
    "        # Max pool 1\n",
    "        self.maxpool1 = nn.MaxPool2d(kernel_size=2)\n",
    "\n",
    "        # Convolution 2\n",
    "        self.cnn2 = nn.Conv2d(in_channels=16, out_channels=32, kernel_size=5, stride=1, padding=2)\n",
    "        self.relu2 = nn.ReLU()\n",
    "\n",
    "        # Max pool 2\n",
    "        self.maxpool2 = nn.MaxPool2d(kernel_size=2)\n",
    "\n",
    "        # Fully connected 1 (readout)\n",
    "        self.fc1 = nn.Linear(32 * 7 * 7, 10) \n",
    "\n",
    "    def forward(self, x):\n",
    "        # Convolution 1\n",
    "        out = self.cnn1(x)\n",
    "        out = self.relu1(out)\n",
    "\n",
    "        # Max pool 1\n",
    "        out = self.maxpool1(out)\n",
    "\n",
    "        # Convolution 2 \n",
    "        out = self.cnn2(out)\n",
    "        out = self.relu2(out)\n",
    "\n",
    "        # Max pool 2 \n",
    "        out = self.maxpool2(out)\n",
    "\n",
    "        # Resize\n",
    "        # Original size: (100, 32, 7, 7)\n",
    "        # out.size(0): 100\n",
    "        # New out size: (100, 32*7*7)\n",
    "        out = out.view(out.size(0), -1)\n",
    "\n",
    "        # Linear function (readout)\n",
    "        out = self.fc1(out)\n",
    "\n",
    "        return out"
   ]
  },
  {
   "cell_type": "markdown",
   "id": "e4429cb3",
   "metadata": {},
   "source": [
    "> Step 4: Instantiate Model Class¶"
   ]
  },
  {
   "cell_type": "code",
   "execution_count": 16,
   "id": "1bcfc6c9",
   "metadata": {},
   "outputs": [],
   "source": [
    "model = CNNModel()"
   ]
  },
  {
   "cell_type": "markdown",
   "id": "7378c45a",
   "metadata": {},
   "source": [
    "> Step 5: Instantiate Loss Class"
   ]
  },
  {
   "cell_type": "code",
   "execution_count": 18,
   "id": "a09de0c8",
   "metadata": {},
   "outputs": [],
   "source": [
    "# Convolutional Neural Network: Cross Entropy Loss\n",
    "# Feedforward Neural Network: Cross Entropy Loss\n",
    "# Logistic Regression: Cross Entropy Loss\n",
    "# Linear Regression: MSE"
   ]
  },
  {
   "cell_type": "markdown",
   "id": "f9a5a270",
   "metadata": {},
   "source": [
    "> Our cross entropy loss"
   ]
  },
  {
   "cell_type": "code",
   "execution_count": 19,
   "id": "a9126aa7",
   "metadata": {},
   "outputs": [],
   "source": [
    "criterion = nn.CrossEntropyLoss()"
   ]
  },
  {
   "cell_type": "markdown",
   "id": "c206aa7e",
   "metadata": {},
   "source": [
    "> Step 6: Instantiate Optimizer Class"
   ]
  },
  {
   "cell_type": "code",
   "execution_count": 20,
   "id": "79c6959c",
   "metadata": {},
   "outputs": [],
   "source": [
    "# Even simplier equation\n",
    "# parameters = parameters - learning_rate * parameters_gradients\n",
    "# At every iteration, we update our model's parameters"
   ]
  },
  {
   "cell_type": "markdown",
   "id": "22f680f5",
   "metadata": {},
   "source": [
    "> Optimizer"
   ]
  },
  {
   "cell_type": "code",
   "execution_count": 21,
   "id": "abb094bb",
   "metadata": {},
   "outputs": [],
   "source": [
    "learning_rate = 0.01\n",
    "\n",
    "optimizer = torch.optim.SGD(model.parameters(), lr=learning_rate)  "
   ]
  },
  {
   "cell_type": "markdown",
   "id": "f5af2cdf",
   "metadata": {},
   "source": [
    "> Print model's parameter"
   ]
  },
  {
   "cell_type": "code",
   "execution_count": 22,
   "id": "27eaf405",
   "metadata": {},
   "outputs": [
    {
     "name": "stdout",
     "output_type": "stream",
     "text": [
      "<generator object Module.parameters at 0x0000019B30578BA0>\n",
      "6\n",
      "torch.Size([16, 1, 5, 5])\n",
      "torch.Size([16])\n",
      "torch.Size([32, 16, 5, 5])\n",
      "torch.Size([32])\n",
      "torch.Size([10, 1568])\n",
      "torch.Size([10])\n"
     ]
    }
   ],
   "source": [
    "print(model.parameters())\n",
    "\n",
    "print(len(list(model.parameters())))\n",
    "\n",
    "# Convolution 1: 16 Kernels\n",
    "print(list(model.parameters())[0].size())\n",
    "\n",
    "# Convolution 1 Bias: 16 Kernels\n",
    "print(list(model.parameters())[1].size())\n",
    "\n",
    "# Convolution 2: 32 Kernels with depth = 16\n",
    "print(list(model.parameters())[2].size())\n",
    "\n",
    "# Convolution 2 Bias: 32 Kernels with depth = 16\n",
    "print(list(model.parameters())[3].size())\n",
    "\n",
    "# Fully Connected Layer 1\n",
    "print(list(model.parameters())[4].size())\n",
    "\n",
    "# Fully Connected Layer Bias\n",
    "print(list(model.parameters())[5].size())"
   ]
  },
  {
   "cell_type": "markdown",
   "id": "2eb1f9d7",
   "metadata": {},
   "source": [
    "> Step 7: Train Model"
   ]
  },
  {
   "cell_type": "code",
   "execution_count": 23,
   "id": "87400c60",
   "metadata": {},
   "outputs": [],
   "source": [
    "# Process\n",
    "# Convert inputs to tensors with gradient accumulation abilities\n",
    "# CNN Input: (1, 28, 28)\n",
    "# Feedforward NN Input: (1, 28*28)\n",
    "# Clear gradient buffets\n",
    "# Get output given inputs\n",
    "# Get loss\n",
    "# Get gradients w.r.t. parameters\n",
    "# Update parameters using gradients\n",
    "# parameters = parameters - learning_rate * parameters_gradients\n",
    "# REPEAT"
   ]
  },
  {
   "cell_type": "markdown",
   "id": "f8b37c7a",
   "metadata": {},
   "source": [
    "> Model training"
   ]
  },
  {
   "cell_type": "code",
   "execution_count": 24,
   "id": "071d78df",
   "metadata": {},
   "outputs": [
    {
     "name": "stdout",
     "output_type": "stream",
     "text": [
      "Iteration: 500. Loss: 0.4485189914703369. Accuracy: 88.88999938964844\n",
      "Iteration: 1000. Loss: 0.3324435353279114. Accuracy: 91.69999694824219\n",
      "Iteration: 1500. Loss: 0.23597347736358643. Accuracy: 94.66000366210938\n",
      "Iteration: 2000. Loss: 0.06913601607084274. Accuracy: 95.51000213623047\n",
      "Iteration: 2500. Loss: 0.10545193403959274. Accuracy: 96.2300033569336\n",
      "Iteration: 3000. Loss: 0.05854206904768944. Accuracy: 96.63999938964844\n"
     ]
    }
   ],
   "source": [
    "iter = 0\n",
    "for epoch in range(num_epochs):\n",
    "    for i, (images, labels) in enumerate(train_loader):\n",
    "        # Load images\n",
    "        images = images.requires_grad_()\n",
    "\n",
    "        # Clear gradients w.r.t. parameters\n",
    "        optimizer.zero_grad()\n",
    "\n",
    "        # Forward pass to get output/logits\n",
    "        outputs = model(images)\n",
    "\n",
    "        # Calculate Loss: softmax --> cross entropy loss\n",
    "        loss = criterion(outputs, labels)\n",
    "\n",
    "        # Getting gradients w.r.t. parameters\n",
    "        loss.backward()\n",
    "\n",
    "        # Updating parameters\n",
    "        optimizer.step()\n",
    "\n",
    "        iter += 1\n",
    "\n",
    "        if iter % 500 == 0:\n",
    "            # Calculate Accuracy         \n",
    "            correct = 0\n",
    "            total = 0\n",
    "            # Iterate through test dataset\n",
    "            for images, labels in test_loader:\n",
    "                # Load images\n",
    "                images = images.requires_grad_()\n",
    "\n",
    "                # Forward pass only to get logits/output\n",
    "                outputs = model(images)\n",
    "\n",
    "                # Get predictions from the maximum value\n",
    "                _, predicted = torch.max(outputs.data, 1)\n",
    "\n",
    "                # Total number of labels\n",
    "                total += labels.size(0)\n",
    "\n",
    "                # Total correct predictions\n",
    "                correct += (predicted == labels).sum()\n",
    "\n",
    "            accuracy = 100 * correct / total\n",
    "\n",
    "            # Print Loss\n",
    "            print('Iteration: {}. Loss: {}. Accuracy: {}'.format(iter, loss.item(), accuracy))"
   ]
  },
  {
   "cell_type": "markdown",
   "id": "b7c8a411",
   "metadata": {},
   "source": [
    "<p style=\"font-family:ComicSansMS; font-size: 24px; color: magenta\"> Model A ¶</p>"
   ]
  },
  {
   "cell_type": "markdown",
   "id": "d309f998",
   "metadata": {},
   "source": [
    "<p style=\"font-family:ComicSansMS; font-size: 16px; color: magenta\"> 2 Convolutional Layers ¶</p>\n",
    "<p style=\"font-family:ComicSansMS; font-size: 16px; color: magenta\"> Same Padding (same output size) ¶</p>\n",
    "<p style=\"font-family:ComicSansMS; font-size: 22px; color: yellow\"> 2 Average Pooling Layers ¶</p>\n",
    "<p style=\"font-family:ComicSansMS; font-size: 16px; color: magenta\"> 1 Fully Connected Layer ¶</p>"
   ]
  },
  {
   "cell_type": "code",
   "execution_count": 25,
   "id": "2d8be678",
   "metadata": {},
   "outputs": [],
   "source": [
    "# Steps¶\n",
    "# Step 1: Load Dataset\n",
    "# Step 2: Make Dataset Iterable\n",
    "# Step 3: Create Model Class\n",
    "# Step 4: Instantiate Model Class\n",
    "# Step 5: Instantiate Loss Class\n",
    "# Step 6: Instantiate Optimizer Class\n",
    "# Step 7: Train Model"
   ]
  },
  {
   "cell_type": "markdown",
   "id": "9e097442",
   "metadata": {},
   "source": [
    "> 2 Conv + 2 Average Pool + 1 FC (Zero Padding, Same Padding)"
   ]
  },
  {
   "cell_type": "code",
   "execution_count": 26,
   "id": "365de359",
   "metadata": {},
   "outputs": [
    {
     "name": "stdout",
     "output_type": "stream",
     "text": [
      "Iteration: 500. Loss: 0.49990642070770264. Accuracy: 85.27999877929688\n",
      "Iteration: 1000. Loss: 0.5022627115249634. Accuracy: 88.37000274658203\n",
      "Iteration: 1500. Loss: 0.26689252257347107. Accuracy: 90.41999816894531\n",
      "Iteration: 2000. Loss: 0.33730411529541016. Accuracy: 91.47000122070312\n",
      "Iteration: 2500. Loss: 0.225868359208107. Accuracy: 91.81999969482422\n",
      "Iteration: 3000. Loss: 0.42214828729629517. Accuracy: 93.25\n"
     ]
    }
   ],
   "source": [
    "import torch\n",
    "import torch.nn as nn\n",
    "import torchvision.transforms as transforms\n",
    "import torchvision.datasets as dsets\n",
    "\n",
    "'''\n",
    "STEP 1: LOADING DATASET\n",
    "'''\n",
    "\n",
    "train_dataset = dsets.MNIST(root='./data', \n",
    "                            train=True, \n",
    "                            transform=transforms.ToTensor(),\n",
    "                            download=True)\n",
    "\n",
    "test_dataset = dsets.MNIST(root='./data', \n",
    "                           train=False, \n",
    "                           transform=transforms.ToTensor())\n",
    "\n",
    "'''\n",
    "STEP 2: MAKING DATASET ITERABLE\n",
    "'''\n",
    "\n",
    "batch_size = 100\n",
    "n_iters = 3000\n",
    "num_epochs = n_iters / (len(train_dataset) / batch_size)\n",
    "num_epochs = int(num_epochs)\n",
    "\n",
    "train_loader = torch.utils.data.DataLoader(dataset=train_dataset, \n",
    "                                           batch_size=batch_size, \n",
    "                                           shuffle=True)\n",
    "\n",
    "test_loader = torch.utils.data.DataLoader(dataset=test_dataset, \n",
    "                                          batch_size=batch_size, \n",
    "                                          shuffle=False)\n",
    "\n",
    "'''\n",
    "STEP 3: CREATE MODEL CLASS\n",
    "'''\n",
    "class CNNModel(nn.Module):\n",
    "    def __init__(self):\n",
    "        super(CNNModel, self).__init__()\n",
    "\n",
    "        # Convolution 1\n",
    "        self.cnn1 = nn.Conv2d(in_channels=1, out_channels=16, kernel_size=5, stride=1, padding=2)\n",
    "        self.relu1 = nn.ReLU()\n",
    "\n",
    "        # Average pool 1\n",
    "        self.avgpool1 = nn.AvgPool2d(kernel_size=2)\n",
    "\n",
    "        # Convolution 2\n",
    "        self.cnn2 = nn.Conv2d(in_channels=16, out_channels=32, kernel_size=5, stride=1, padding=2)\n",
    "        self.relu2 = nn.ReLU()\n",
    "\n",
    "        # Average pool 2\n",
    "        self.avgpool2 = nn.AvgPool2d(kernel_size=2)\n",
    "\n",
    "        # Fully connected 1 (readout)\n",
    "        self.fc1 = nn.Linear(32 * 7 * 7, 10) \n",
    "\n",
    "    def forward(self, x):\n",
    "        # Convolution 1\n",
    "        out = self.cnn1(x)\n",
    "        out = self.relu1(out)\n",
    "\n",
    "        # Average pool 1\n",
    "        out = self.avgpool1(out)\n",
    "\n",
    "        # Convolution 2 \n",
    "        out = self.cnn2(out)\n",
    "        out = self.relu2(out)\n",
    "\n",
    "        # Max pool 2 \n",
    "        out = self.avgpool2(out)\n",
    "\n",
    "        # Resize\n",
    "        # Original size: (100, 32, 7, 7)\n",
    "        # out.size(0): 100\n",
    "        # New out size: (100, 32*7*7)\n",
    "        out = out.view(out.size(0), -1)\n",
    "\n",
    "        # Linear function (readout)\n",
    "        out = self.fc1(out)\n",
    "\n",
    "        return out\n",
    "\n",
    "'''\n",
    "STEP 4: INSTANTIATE MODEL CLASS\n",
    "'''\n",
    "\n",
    "model = CNNModel()\n",
    "\n",
    "'''\n",
    "STEP 5: INSTANTIATE LOSS CLASS\n",
    "'''\n",
    "criterion = nn.CrossEntropyLoss()\n",
    "\n",
    "\n",
    "'''\n",
    "STEP 6: INSTANTIATE OPTIMIZER CLASS\n",
    "'''\n",
    "learning_rate = 0.01\n",
    "\n",
    "optimizer = torch.optim.SGD(model.parameters(), lr=learning_rate)\n",
    "\n",
    "'''\n",
    "STEP 7: TRAIN THE MODEL\n",
    "'''\n",
    "iter = 0\n",
    "for epoch in range(num_epochs):\n",
    "    for i, (images, labels) in enumerate(train_loader):\n",
    "        # Load images as tensors with gradient accumulation abilities\n",
    "        images = images.requires_grad_()\n",
    "\n",
    "        # Clear gradients w.r.t. parameters\n",
    "        optimizer.zero_grad()\n",
    "\n",
    "        # Forward pass to get output/logits\n",
    "        outputs = model(images)\n",
    "\n",
    "        # Calculate Loss: softmax --> cross entropy loss\n",
    "        loss = criterion(outputs, labels)\n",
    "\n",
    "        # Getting gradients w.r.t. parameters\n",
    "        loss.backward()\n",
    "\n",
    "        # Updating parameters\n",
    "        optimizer.step()\n",
    "\n",
    "        iter += 1\n",
    "\n",
    "        if iter % 500 == 0:\n",
    "            # Calculate Accuracy         \n",
    "            correct = 0\n",
    "            total = 0\n",
    "            # Iterate through test dataset\n",
    "            for images, labels in test_loader:\n",
    "                # Load images to tensors with gradient accumulation abilities\n",
    "                images = images.requires_grad_()\n",
    "\n",
    "                # Forward pass only to get logits/output\n",
    "                outputs = model(images)\n",
    "\n",
    "                # Get predictions from the maximum value\n",
    "                _, predicted = torch.max(outputs.data, 1)\n",
    "\n",
    "                # Total number of labels\n",
    "                total += labels.size(0)\n",
    "\n",
    "                # Total correct predictions\n",
    "                correct += (predicted == labels).sum()\n",
    "\n",
    "            accuracy = 100 * correct / total\n",
    "\n",
    "            # Print Loss\n",
    "            print('Iteration: {}. Loss: {}. Accuracy: {}'.format(iter, loss.item(), accuracy))"
   ]
  },
  {
   "cell_type": "markdown",
   "id": "5532d8cf",
   "metadata": {},
   "source": [
    "> Comparison of accuracies"
   ]
  },
  {
   "cell_type": "code",
   "execution_count": 27,
   "id": "a7cd0a6a",
   "metadata": {},
   "outputs": [],
   "source": [
    "# It seems like average pooling test accuracy is less than the max pooling accuracy! \n",
    "# Does this mean average pooling is better? This is not definitive and depends on a lot of factors \n",
    "# including the model's architecture, seed (that affects random weight initialization) and more."
   ]
  },
  {
   "cell_type": "markdown",
   "id": "4516358a",
   "metadata": {},
   "source": [
    "<p style=\"font-family:ComicSansMS; font-size: 24px; color: magenta\"> Model C</p>"
   ]
  },
  {
   "cell_type": "markdown",
   "id": "c60077d2",
   "metadata": {},
   "source": [
    "\n",
    "<p style=\"font-family:ComicSansMS; font-size: 16px; color: magenta\"> 2 Convolutional Layers</p>\n",
    "<p style=\"font-family:ComicSansMS; font-size: 22px; color: yellow\"> Valid Padding (smaller output size)</p>\n",
    "<p style=\"font-family:ComicSansMS; font-size: 22px; color: yellow\"> 2 Max Pooling Layers</p>\n",
    "<p style=\"font-family:ComicSansMS; font-size: 16px; color: magenta\"> 1 Fully Connected Layer</p>"
   ]
  },
  {
   "cell_type": "code",
   "execution_count": 28,
   "id": "8f20fdab",
   "metadata": {},
   "outputs": [],
   "source": [
    "# Steps¶\n",
    "# Step 1: Load Dataset\n",
    "# Step 2: Make Dataset Iterable\n",
    "# Step 3: Create Model Class\n",
    "# Step 4: Instantiate Model Class\n",
    "# Step 5: Instantiate Loss Class\n",
    "# Step 6: Instantiate Optimizer Class\n",
    "# Step 7: Train Model"
   ]
  },
  {
   "cell_type": "markdown",
   "id": "aad62713",
   "metadata": {},
   "source": [
    "> 2 Conv + 2 Max Pool + 1 FC (Valid Padding, No Padding)"
   ]
  },
  {
   "cell_type": "code",
   "execution_count": 29,
   "id": "3d172f11",
   "metadata": {},
   "outputs": [
    {
     "name": "stdout",
     "output_type": "stream",
     "text": [
      "Iteration: 500. Loss: 0.4874335825443268. Accuracy: 88.18000030517578\n",
      "Iteration: 1000. Loss: 0.47496795654296875. Accuracy: 91.7699966430664\n",
      "Iteration: 1500. Loss: 0.18802450597286224. Accuracy: 93.86000061035156\n",
      "Iteration: 2000. Loss: 0.17608784139156342. Accuracy: 95.05999755859375\n",
      "Iteration: 2500. Loss: 0.19334834814071655. Accuracy: 95.68000030517578\n",
      "Iteration: 3000. Loss: 0.155306875705719. Accuracy: 96.05000305175781\n"
     ]
    }
   ],
   "source": [
    "import torch\n",
    "import torch.nn as nn\n",
    "import torchvision.transforms as transforms\n",
    "import torchvision.datasets as dsets\n",
    "\n",
    "'''\n",
    "STEP 1: LOADING DATASET\n",
    "'''\n",
    "\n",
    "train_dataset = dsets.MNIST(root='./data', \n",
    "                            train=True, \n",
    "                            transform=transforms.ToTensor(),\n",
    "                            download=True)\n",
    "\n",
    "test_dataset = dsets.MNIST(root='./data', \n",
    "                           train=False, \n",
    "                           transform=transforms.ToTensor())\n",
    "\n",
    "'''\n",
    "STEP 2: MAKING DATASET ITERABLE\n",
    "'''\n",
    "\n",
    "batch_size = 100\n",
    "n_iters = 3000\n",
    "num_epochs = n_iters / (len(train_dataset) / batch_size)\n",
    "num_epochs = int(num_epochs)\n",
    "\n",
    "train_loader = torch.utils.data.DataLoader(dataset=train_dataset, \n",
    "                                           batch_size=batch_size, \n",
    "                                           shuffle=True)\n",
    "\n",
    "test_loader = torch.utils.data.DataLoader(dataset=test_dataset, \n",
    "                                          batch_size=batch_size, \n",
    "                                          shuffle=False)\n",
    "\n",
    "'''\n",
    "STEP 3: CREATE MODEL CLASS\n",
    "'''\n",
    "class CNNModel(nn.Module):\n",
    "    def __init__(self):\n",
    "        super(CNNModel, self).__init__()\n",
    "\n",
    "        # Convolution 1\n",
    "        self.cnn1 = nn.Conv2d(in_channels=1, out_channels=16, kernel_size=5, stride=1, padding=0)\n",
    "        self.relu1 = nn.ReLU()\n",
    "\n",
    "        # Max pool 1\n",
    "        self.maxpool1 = nn.MaxPool2d(kernel_size=2)\n",
    "\n",
    "        # Convolution 2\n",
    "        self.cnn2 = nn.Conv2d(in_channels=16, out_channels=32, kernel_size=5, stride=1, padding=0)\n",
    "        self.relu2 = nn.ReLU()\n",
    "\n",
    "        # Max pool 2\n",
    "        self.maxpool2 = nn.MaxPool2d(kernel_size=2)\n",
    "\n",
    "        # Fully connected 1 (readout)\n",
    "        self.fc1 = nn.Linear(32 * 4 * 4, 10) \n",
    "\n",
    "    def forward(self, x):\n",
    "        # Convolution 1\n",
    "        out = self.cnn1(x)\n",
    "        out = self.relu1(out)\n",
    "\n",
    "        # Max pool 1\n",
    "        out = self.maxpool1(out)\n",
    "\n",
    "        # Convolution 2 \n",
    "        out = self.cnn2(out)\n",
    "        out = self.relu2(out)\n",
    "\n",
    "        # Max pool 2 \n",
    "        out = self.maxpool2(out)\n",
    "\n",
    "        # Resize\n",
    "        # Original size: (100, 32, 7, 7)\n",
    "        # out.size(0): 100\n",
    "        # New out size: (100, 32*7*7)\n",
    "        out = out.view(out.size(0), -1)\n",
    "\n",
    "        # Linear function (readout)\n",
    "        out = self.fc1(out)\n",
    "\n",
    "        return out\n",
    "\n",
    "'''\n",
    "STEP 4: INSTANTIATE MODEL CLASS\n",
    "'''\n",
    "\n",
    "model = CNNModel()\n",
    "\n",
    "'''\n",
    "STEP 5: INSTANTIATE LOSS CLASS\n",
    "'''\n",
    "criterion = nn.CrossEntropyLoss()\n",
    "\n",
    "\n",
    "'''\n",
    "STEP 6: INSTANTIATE OPTIMIZER CLASS\n",
    "'''\n",
    "learning_rate = 0.01\n",
    "\n",
    "optimizer = torch.optim.SGD(model.parameters(), lr=learning_rate)\n",
    "\n",
    "'''\n",
    "STEP 7: TRAIN THE MODEL\n",
    "'''\n",
    "iter = 0\n",
    "for epoch in range(num_epochs):\n",
    "    for i, (images, labels) in enumerate(train_loader):\n",
    "        # Load images as tensors with gradient accumulation abilities\n",
    "        images = images.requires_grad_()\n",
    "\n",
    "        # Clear gradients w.r.t. parameters\n",
    "        optimizer.zero_grad()\n",
    "\n",
    "        # Forward pass to get output/logits\n",
    "        outputs = model(images)\n",
    "\n",
    "        # Calculate Loss: softmax --> cross entropy loss\n",
    "        loss = criterion(outputs, labels)\n",
    "\n",
    "        # Getting gradients w.r.t. parameters\n",
    "        loss.backward()\n",
    "\n",
    "        # Updating parameters\n",
    "        optimizer.step()\n",
    "\n",
    "        iter += 1\n",
    "\n",
    "        if iter % 500 == 0:\n",
    "            # Calculate Accuracy         \n",
    "            correct = 0\n",
    "            total = 0\n",
    "            # Iterate through test dataset\n",
    "            for images, labels in test_loader:\n",
    "                # Load images to tensors with gradient accumulation abilities\n",
    "                images = images.requires_grad_()\n",
    "\n",
    "                # Forward pass only to get logits/output\n",
    "                outputs = model(images)\n",
    "\n",
    "                # Get predictions from the maximum value\n",
    "                _, predicted = torch.max(outputs.data, 1)\n",
    "\n",
    "                # Total number of labels\n",
    "                total += labels.size(0)\n",
    "\n",
    "                # Total correct predictions\n",
    "                correct += (predicted == labels).sum()\n",
    "\n",
    "            accuracy = 100 * correct / total\n",
    "\n",
    "            # Print Loss\n",
    "            print('Iteration: {}. Loss: {}. Accuracy: {}'.format(iter, loss.item(), accuracy))"
   ]
  },
  {
   "cell_type": "code",
   "execution_count": null,
   "id": "9f1f3a4f",
   "metadata": {},
   "outputs": [],
   "source": [
    "# Model A\t        Model B\t        Model C\n",
    "# Max Pooling\t    Average Pooling\tMax Pooling\n",
    "# Same Padding\tSame Padding\tValid Padding\n",
    "# 96.64%\t        93.25%\t        96.05%"
   ]
  },
  {
   "cell_type": "code",
   "execution_count": 31,
   "id": "0e986197",
   "metadata": {},
   "outputs": [],
   "source": [
    "# General Deep Learning Notes on CNN and FNN\n",
    "    # 3 ways to expand a convolutional neural network\n",
    "        # More convolutional layers\n",
    "        # Less aggressive downsampling\n",
    "        # Smaller kernel size for pooling (gradually downsampling)\n",
    "        # More fully connected layers\n",
    "\n",
    "    # Cons\n",
    "        # Need a larger dataset\n",
    "        # Curse of dimensionality\n",
    "        # Does not necessarily mean higher accuracy"
   ]
  }
 ],
 "metadata": {
  "kernelspec": {
   "display_name": "base",
   "language": "python",
   "name": "python3"
  },
  "language_info": {
   "codemirror_mode": {
    "name": "ipython",
    "version": 3
   },
   "file_extension": ".py",
   "mimetype": "text/x-python",
   "name": "python",
   "nbconvert_exporter": "python",
   "pygments_lexer": "ipython3",
   "version": "3.12.7"
  }
 },
 "nbformat": 4,
 "nbformat_minor": 5
}
